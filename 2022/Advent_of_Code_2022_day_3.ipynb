{
  "nbformat": 4,
  "nbformat_minor": 0,
  "metadata": {
    "colab": {
      "provenance": [],
      "collapsed_sections": [
        "AOLpW85xvI90"
      ],
      "authorship_tag": "ABX9TyNgCfEDUmg05Dlfb2JbblB0",
      "include_colab_link": true
    },
    "kernelspec": {
      "name": "python3",
      "display_name": "Python 3"
    },
    "language_info": {
      "name": "python"
    }
  },
  "cells": [
    {
      "cell_type": "markdown",
      "metadata": {
        "id": "view-in-github",
        "colab_type": "text"
      },
      "source": [
        "<a href=\"https://colab.research.google.com/github/HerveMignot/AdventOfCode/blob/main/2022/Advent_of_Code_2022_day_3.ipynb\" target=\"_parent\"><img src=\"https://colab.research.google.com/assets/colab-badge.svg\" alt=\"Open In Colab\"/></a>"
      ]
    },
    {
      "cell_type": "markdown",
      "source": [
        "# Advent of Code 2022 day 3 🎄"
      ],
      "metadata": {
        "id": "0ZnHnFt6vMdV"
      }
    },
    {
      "cell_type": "markdown",
      "source": [
        "## Input"
      ],
      "metadata": {
        "id": "AOLpW85xvI90"
      }
    },
    {
      "cell_type": "code",
      "execution_count": 1,
      "metadata": {
        "id": "2sknKvOGvFME"
      },
      "outputs": [],
      "source": [
        "INPUT = \"\"\"jVTBgVbgJQVrTLRRsLvRzWcZvnDs\n",
        "dhtmhfdfNlNNldfqmPCflqGbNZDHsDWcRzvczWsczZNzHz\n",
        "tmwwwCCfbJSMbwMb\n",
        "hsrZZhHlhrHmPPbMbDFDQdnQgLfMFDdDQQ\n",
        "GpBtwtqrcCcjgnLgqfgDDgRn\n",
        "cJwVwpCpGJctJtBcCrSCGrVJhlsbvSvTvbmHmmsWmHslmsHm\n",
        "gCtWJvmfmGGwVVMhJw\n",
        "nzRSpZbSVFFRDFSDzcplddqplqMhQMclMp\n",
        "zFLszzRTDnZnbTZTRZsVNgCjrvfvgtvNmtfvLW\n",
        "glRQRpQQtQtGtQws\n",
        "TnmbLqvBFRFFLPBFnPbvRBhshTtHWhwzdwtHdsdzWhws\n",
        "qmCLPNmCFnLBnmPPqVbFLRrJjVggDgJjlZVVDjDlDD\n",
        "vRRgpWvPQFdTFDDNQs\n",
        "bqtCmltmlbwqLVLZqwtmLBBTMcGBddTTBgFNGcZGMD\n",
        "bbtmJmjlVlwblwwbwzbbvrrznvzShgRhRvhfWrWn\n",
        "ZMhThfNcpbbMNNjsHpmpsRqsPmRs\n",
        "wQjDgggQDPqqDlsD\n",
        "SCwSzvLVCSVtQVgLnrccfdGdTdZfcZMtjJhG\n",
        "wNnNmNHnNPPwwPGCrLSZZvdVVZvBtMMvdm\n",
        "WQzlhzjzbBtMMlBrMl\n",
        "szbgWhJjTTcsWTqgzsqcsGHfwNcwfwnHHrCGCPPGwr\n",
        "CNsbpFCMSrmDhQHNNGmH\n",
        "fQPPPcqvljQzjVDDgRBhGGqDgqqD\n",
        "ZctlcVzcfltQtnrndbQMCM\n",
        "NQjQjQvZvZjcvrrrNjgTQgBQwTJsJswJlbGstqqtmGhmwhqw\n",
        "PWpHRzRnPHHSCnPFwlqhbtqGZClJqGqG\n",
        "ZzVpMpWPHnVzzpWzDRzSZrcdDQdrQNrcQgQfjcNfjf\n",
        "BSZMtdtZBzMFvhCbBJDbhDDC\n",
        "qcqVVmccrmVcjrlHqTrjDJRPQhWvPWWfPvblffDf\n",
        "cHTrbGwpmGwVjdFMnzpLznMztd\n",
        "DGDGGbNgTgJQQLMRMMTNVzvPsPbdsfPVsdVVZfPf\n",
        "lcCmmlpwwnwSjCHtFpCpHzCrZsVrBZZzdvDfVrsfZd\n",
        "lSHwnjpFmppHqppttttcFmnhMLGNRLhTMDqJLQNLLQNLhJ\n",
        "WqWfDWBjBjLbfcbbqGbWqQsrFFztsppMFCzgCJzJCrFpCM\n",
        "VRlhdHZTZVRRmZwlmFrJwFpMMDDrrrtJwg\n",
        "PPVddvvDZmRmHvndTHmLcbcjSjLQBGWGGQWSqP\n",
        "HHvgvwHMPMwHwmcRfJNFchFGNNCm\n",
        "BsTDsjzBCCBJGffN\n",
        "jznSnSdqzqnQTbdDljQjQSMHWWvvgWvtZlrWpPfWwtPr\n",
        "DJCJJCNjCDRfDfDRhDnNhfjFPgbGbddBTjFdTFTPbgGSdF\n",
        "cmMcMVqBZVcwsGFgGqgWdFqb\n",
        "vcZVzwmHVcrtrwMMvvmBHwNNCDpQRfhLhrNJNfJDDDRC\n",
        "VWSSScsncpDRdnsWsVncVzTwMMMHtMTrLTLMMVHM\n",
        "fjJvQqBCQNhfQlZZnqmFHLFMTFTzwzLzrHMB\n",
        "CqfjjQZJPjjvpRppDPgbnSnP\n",
        "tLnjNwjRWttdCwRLsfGzfzPbzbWbQQPT\n",
        "cvvBvlBrFrlTffsbfTqZ\n",
        "vmrFpsrvFMMMNwhtDwhN\n",
        "wzgRNqwtgzMWtqGwCssBBSBZnSRsrQQS\n",
        "bbjLTmpjpHcpVncVdmffPCDrjZDSDsZffDQC\n",
        "pbVFncvvbpbbHJJHVdvqMGMJNwWlNlJMwqzlNM\n",
        "TdszlzFsRQqFdRzqwwQGlFsGmmSBBdmdVVmgSZdSPZBBBmSD\n",
        "HMCCMbJHJJLHSmSvZLBcSDBP\n",
        "NWbhPjfrbbNfWCPjhNnGsNzsqpQszTQGRwGQzR\n",
        "ppQpTNCPBTlNBVmNQTNrrrrtqsrWbGrVFWqhZb\n",
        "DMvDHnjRvMDLghhhgbqZWbqFSS\n",
        "vWvMRRJDLMnHLJjDwWnnndcllNTzBmClQBpBBzQQzCBzCJ\n",
        "VsNZfPMnrCnlCnWtbvBbvwtTbZwT\n",
        "JhJQdQhmRHDRdLmHJhljhphgGwtttmcvbwwTWtvtbGBttc\n",
        "jqLpjSLDHlhnffCMzsqCPP\n",
        "JzJdLRmmzJwrLLwLJwLTWwBrMrpHlFnScVVqccrBHSlc\n",
        "tvQDQhjhvbqFqFSpjHSV\n",
        "QbgZtsgfbNNQbgbsbQRfmWRJwJGWWTPRwqzR\n",
        "MwvDgpwszSpSJPsssMccTQfTDfTQRTljfRfT\n",
        "PmGbWhbVtZWPTqRrcTrrjTrt\n",
        "NbZbWHBmVGmLbZVBVNLPsMBzwSSzMJMCsCzvnvSp\n",
        "cTpgTnpzbZlJHTZm\n",
        "jRrLVtqtvtrjqsHZhvpmBfJHmhhp\n",
        "FqDsFLCwCVRDqwgNQcQMwnncnMpg\n",
        "sCCtssdZdZJmMbNJDmtmJzLSrcGfHGLTHDHnGLrHTSSn\n",
        "gQwRRWqwqgpggFWPjPpFnSTSnHNfLLQrccrLGHLL\n",
        "qqlpqhjFwPgPwvvRgFlPdslZCzMZtVdtVdVMtJlN\n",
        "BWVmPtRVRRWDNtZBVQzCfdscmfjcfdfzzSfz\n",
        "MhgJLbGggHbqpGgpgJbrFJdjwsCChCzllzCdjDSszCCD\n",
        "grpDLFrbgpJnqJrHGFHGqMHBBPRWQTPWZBQVTQWnPNVvBt\n",
        "gJfggdmHDgfJJWzCcbqvcqcmTG\n",
        "hLZlRBZNlBlrpprzrWqvtHvvGtbvHT\n",
        "sNLRjHZLNVnZZVLppnhNsMFJSjFPPQMjwgMPPfDMfS\n",
        "mDDzHfrPBvJRJhpBRg\n",
        "SsTSTwJwcbCtwssGFVWppgZRbLpLRNhpLhbLvg\n",
        "ttVCGjTGrfJJMfjD\n",
        "ffhcsTjnfqHLqvZSHvHB\n",
        "CsgmPVmstsQVpRbHBvFbHBDMvZLZGB\n",
        "ppgpmmRVpVPwPrrrTNlcrwrlWs\n",
        "NDtssPNBjQtCtCcT\n",
        "ZZqncfqhZqhJZFTJTllCGVljSl\n",
        "ndrWbfZwWhngwbqbZnMZcwWhDmmLDmzvHPvzNLdmzsvBBHHP\n",
        "FQtptwMppSFQRRQfSfvTrTJJJTrvLjMMJbgJ\n",
        "CcDqWBWzbldcchDGCWBCBhdGrvhnrsrjjsJvLvghrjjnnjsJ\n",
        "GDBldPDGqPGWVBBcwHFmSmbpSpNRwHFV\n",
        "CwHwCFwtCmdCDflHDpwFnnvzhhNJhJNzmhzhhNMM\n",
        "sTbZssPqScTrqSWSShdMvgMRRzdRRQ\n",
        "brBrsWPTrdrWsPcBcTcGqDLDDHjFfDClwLLBfFlFlw\n",
        "lNptNFWpbVMjlBgQgvdNBRQLrd\n",
        "TsDCDfSCQqqQQqDq\n",
        "TwTmwPPPzZSCccScJwpWZHljtbWMFFQVHpnj\n",
        "fhFmwbrgnCcSnwtS\n",
        "vZVVZvQZVPZsMnNSccMHPN\n",
        "ddzvQJvQzBzWRTJzdRVSWGqbRbgmfbFFbmbgmpmlff\n",
        "wdslVdQtdlBVHDrHBcBc\n",
        "TJWvpncCcJzCWcRfWvJRRpfZHBDZZHmDZPBjZHjZrSfb\n",
        "TRJFvvWpTRRWCpCgGtgtGQdlcNtsGlwg\n",
        "rCHvRLJtCjpbRCLpptHMVCQgGlMndVlQGNcCMc\n",
        "zZfzSmsfSsMzMccQMVcN\n",
        "ssSmPmSmhwVhZBZsTBRJrtRjtbDvjvrTHLtJ\n",
        "wswRCNHHhsrWFsGfGWFBGb\n",
        "lLtngDPLgLJPttgWzQWlbCfBlmBFCW\n",
        "DcDnVpcnnJPngjjcdpRhwNZSCZNdNdvr\n",
        "NWNzWpfMRHfwsRNznPdjtdjJtPVPHVdJ\n",
        "CSLTZBrGbSmClvBVdGzFVVcFdjjjnV\n",
        "SrZhZbTvmmbbLvwQzMhsfhqqWwQR\n",
        "vvZqwFBZvzZzrqltPsQstrGGpMcbbR\n",
        "bhJdjJJmTRQMTMMPPM\n",
        "mCmgLbdVVVLhVnJmLgJhBWZFDlqFvwZDlZBnBvWB\n",
        "sMrcmQcHHsLLrSHZhvdCddvtJJFl\n",
        "jzjjWplWpPRPDzPzfRGjqvdJqqqCtqdqDvdDqtwC\n",
        "pPNWVpGGVVffPlnSMnMsTmgsQVLr\n",
        "zGMMRbpGmqqqNRmmzbNfbzPRPlvThCTrHPnrHSVPlTHR\n",
        "LSjjwgsjtTjhPhHhvC\n",
        "dJZtJwFgtBLDZZbmNMGzMMqS\n",
        "ZrnstppPWccnsFWpnZnRdjRtjbCtSSRjjjLLbG\n",
        "JgBQPJvPgHHJvmmzwGGLdjHGSjShGHqdHL\n",
        "wTJvPzmTJvzJQBfwNmTmlPsrVfnVFpcMVZprDpFrsrVc\n",
        "ssGCtltsSdJJtQjPdvHvfbfvqLHqZtBfVb\n",
        "pzRwwDwDTgzbqVTVvHqVWB\n",
        "grzHnRpmFpDMnmzFhplJCjlsPdGJSjsFCdFs\n",
        "CTGBBGCBlSTTSsnTMrQbNrBMtpVzNddWHWzVpHVtdHmwhphm\n",
        "JqPZgMRFFvFZvDZMDFcFFfDchdtdPWpzpWhtHWwwhVzWpddW\n",
        "ZfLZMcgqRDjgjcLccDRDLsbbrSBBlQGQBCTrCBnT\n",
        "VjVGVqSqFLFVSqCjFJSsbfPprHbCCRRPccRWPW\n",
        "wwnQmtwlvNmpZRsPsWWNbZ\n",
        "DBhhhznhddldnvjMqJMTqDMGPSjF\n",
        "TTJbsJPPBDsBVbJJGJBGWLfmWzgmDmzmLqmmLddQ\n",
        "jHwVZZjwFZlzLzWZLMdLqM\n",
        "HHHhjHplrHSpcCSvjlsNPbNRbRnVTrRsNNNJ\n",
        "NzMMLZtwRmbwFnVDhnqD\n",
        "SlsJsSdSJdNJnFphVHFjph\n",
        "vlrsTlGPTgvvSBScGcBvfzmmLLCtMWNZRBQMzftf\n",
        "tRFLmZZRLrtRvtvvrvvGgvtLNfwzMzNwgdznMpwwpnMpqHdz\n",
        "hcsBsWTcQJhjbHMncNwzMqnzwl\n",
        "VWSWWTJhWBVDTJsTVWQWTVVbZtCPSvrrGSLCRFRGtRZLPmmq\n",
        "hbdFhdShGsFSGBlQhNhQMLLLlLJCvLLDtVJDLlwtwD\n",
        "WcqWsmcWrmqcmtDHJjVHrJCjjt\n",
        "WPWcnggssmzqzzzgfzZnWRqqdGpSNFdMSFdBMSFZhSFBZZhh\n",
        "GNFNtRQMGjDjwfgDZjmz\n",
        "bqDsPWWbsqVsdvvBJvBfmgfLLzSwzLcmzmfB\n",
        "WPWrrVrrVJhVWJDVsqnPdRQllRQRNhQGMlFQFMplGl\n",
        "mChChmSQGSGJrjPHCpPFtwgsFZjtFVZfgVwtdV\n",
        "MBMqvDWMlTbzlRWzllDzblZfsrgdZffgrtwrswZfdZTd\n",
        "DlcMvBbBMnqMDqcRqDBMWvLmCGrGLSJhnLHCCHHnPmSQ\n",
        "tscfGqftGfDnnppJGDGCZLbzMVMwPPhsblzbjzzMMz\n",
        "TWPTWWmHTmFRSBSvgBPwwwlVzhMdwblhbVjRLL\n",
        "TTQNNWWgHWQHPBWTNPWNcqJtGCnfqfpQZJCZpQZn\n",
        "CqzCGDQJCzzftfRqRzzMdvFpFpccdZFvFMtMbd\n",
        "rNHwmHVmswsHVsPTLnbFSTbZZpFcpvSZZgpg\n",
        "vPLhLLwHLhVVNVvQhBqDCBfhDzCffG\n",
        "WsBbBbsWNhsPsCNssRWLPLpmLDDQHlJlnlzFnDDnzF\n",
        "gcGfqggMqfjjGwrdDZzQFmpJQzZlFDMF\n",
        "qdwqvjdTrwfvvBCPtpVvtR\n",
        "RQdbbRHtHRvqZtwVcmwVwV\n",
        "WnLNnqFDlDWzzNLLrjClwCZCGZcglGCccZ\n",
        "LnTFfWBpffrfrhBqdsSBqhBJHb\n",
        "sqsgJpDMrNQgGsFMsPCfjCPChPWjqSWSjh\n",
        "RBnRnZVcwZllLwbwwLbZVLclhpjRttSdtjPhjWShWdphjCPd\n",
        "HwHwVVwVnBVBmmGppNFzrrsgJJ\n",
        "WpmDFlQlzmmgMMLMLQVTvTTSwNbmTVwTtHHw\n",
        "jrhPDnDnnZfjPTNtHSVTcjccwt\n",
        "CJqPfGnhGZCBfnPJCrBCqdLqMlQqDLlLRgLQFFRW\n",
        "vZVvDZsvhDZhZvzgVcgVqPqmwWMqcw\n",
        "bdTbdBBFQcdCdcGmcP\n",
        "bmjQpHfbpzDJRjNhJZ\n",
        "twRrwjFptprQjjjtQRdWCmNJTlNSCmZQcNlmlSST\n",
        "VVDzMWDnDHMzLZDNNJSqqCJZZD\n",
        "HHhhsfVHGbnwgjfrgdpgWj\n",
        "GmszZGMrLmnmsfGVRcVlwtwccc\n",
        "SSCgbNqSTgCCJMHCJtlVcwVbVljlclVfwf\n",
        "HTCgHSgHQThMqWQQSgDnvBdsFDvrzdZsLdmLZZ\n",
        "PRlMlBPPctVBlstzVLhsdwCqCdCNDjSDdWmMqdNw\n",
        "fZrQQHFffgGFprSJSgvZrfnqjmWdnndCNGWmWDwNNDCG\n",
        "rTvvpJZZrfpFSbQQvrrsssLRVPPtlRtRPThzTR\n",
        "FqgHFFMRTRjRFRpRRjFtNdCtJCMnNNdrdMLdrQ\n",
        "VhWSmwGwWVbGbvlwwlLZJLZSdJZtNCtnTSCJ\n",
        "BmWwWWzhvVfwWhmhwlmvwlRqHpscHRTpTDRFfTsjDPjD\n",
        "MJMgGqMFLPGgWVjpcmjZTpmZjZpJ\n",
        "hdSzzlCtzNdtWSdndttflBmjpBRmvvpjnjcvBjmvHj\n",
        "zdhCrfztrDSzfWzdChrhlhgPPPGDgqFFLGGFVVqqPVQw\n",
        "ZQZNQRZzFdCCgfLcCGDfScjDcG\n",
        "vsmwVHTmTfGcSHjcDS\n",
        "tMsmMVlSWWzdWNnQNJ\n",
        "GPRcQnwwQWwFFnrnnldSqzMfSCdfdldrJf\n",
        "LpTsjmZTsBZjpmzhLLMdSJJSMhCC\n",
        "ZsZBssBsDpDmmVBjCmDZHgnVNWvPQPNPGvNQncQPcRWn\n",
        "pznzpzlGFrvGHGrnnMvDmBMfgfTmsBsTTghDsg\n",
        "LJtWVCWLCNPcSbdcShWBgBThgTfjzwfhhz\n",
        "VZZCdLCVNNCVbCLzFnRqGqlHprQZHRqr\n",
        "dFTsQPdMFsMnWFPdSnwBltftttvlflNN\n",
        "VLZhZLqghCgzqgrLrcgVgbCvtDDtwpqNpDtlBRflDwNqDpNw\n",
        "cLmVhVcgbZrVhrhCLhczhQdJHTmPJJTjvTJsPFWFTW\n",
        "SSwNPNHldNJSngHqBssQvBfccB\n",
        "mMppmDprWpFGRGWmWrDrtGzQfcvvQZBBzzczqRQgRqRT\n",
        "WtFtFvhvpLphNJJVSCbSNP\n",
        "chpGMMzcwSSGnQFRQQFWcFWn\n",
        "sgddTfjLqsWrRtLvQnJr\n",
        "CsmlZgssbRdMhzCHDGpGGG\n",
        "vHBrTzpMPTHMtbBRRJGtDsNB\n",
        "QJWWVwnCZmQlWQWlLWCCmmLwRgtDdDbgngqtRdRGbDNDGtGq\n",
        "LwmWQLJcWmwPrpvpjjrcjT\n",
        "fcsWnWzhWcWgcbfbvtbHTRvpvHttmLtR\n",
        "lNSjwjrDFjlFhlZlQTpLHvSHptvTSRtLmJ\n",
        "NwjwrQDwFCZBCfWzqhqqzc\n",
        "fgNJNRcvvWRfWRrZFldlwlFwfFllflDH\n",
        "spQshQhpqhJsLpnQVLqBqlFwddHSdBFFjSFmwlFmwl\n",
        "hppLsqPVLnpnzJPtqtPPJTCgNcrcNbrrGNcgRNrzcZbG\n",
        "PWFdgDGCFPGhMtQqHBrpJqqW\n",
        "nlllLNmnVNNLllVbVRLRsQMqqpccQQJcJtqcJcnBrc\n",
        "NmvZLsNrbZNjNZVNGvdFFfwdDhPFdDzC\n",
        "LpZpwgLsLSzDdjVGpS\n",
        "bWBlHqqBhNJWNbJQFzGtCtDtGGjNGDgtGC\n",
        "RBRbJggbWRRmhWqTcnnfnmZMTTsTcP\n",
        "JJgzvfzpdzzJjJhgdfhvqfdScNsLwwGsrRbwRLbcbVrVRp\n",
        "WDFBTTDtHTntltnCnnntCDwGlGGbSwNVSssrbwGVsVLs\n",
        "nCHMDtCWWTCCHmmPDnZQgvfQgZNJJdvdMZQg\n",
        "lFDgvlsGvvZGDsFZWgGvWrPqnmwwtqmMVSWrSqMM\n",
        "hRpJhLQHhdTTVPmVSrqwtHmV\n",
        "ctJJJfjLpjglZDGCGljF\n",
        "CnnVMbhVRbQQZjBP\n",
        "rlfsLFLtmLSJscttFfsdjZwZNNwBPWRjRNZBZBfQ\n",
        "tFrmDFlDtmcltFvqVzDqQzGvCVCG\n",
        "JzzJzVrmzJpCCmTFmjZS\n",
        "HtDDtggWssqWfDgwDWvsfDBBchZjSnGGpCFjSFZjpGjFShZg\n",
        "sbvbvfbbDblWtrNVNRzRlJPCzM\n",
        "nlFnFWsWhrctWVdJPDPTnTNJPJQJ\n",
        "fHqvHSqRqSHjBmqvmqqHCtJSTZGdMQJDPQDPPMdNTMZN\n",
        "jzqmbtRRztmbLHcFpgWVsFphpcLV\n",
        "PHZFZFVZZfHgpwjFtmgjtq\n",
        "rpTrTNzzNdrTJwgMwqCBJzJz\n",
        "vsTWbvccRcdRbrRnRRbRrcvVpGlGHZPspSVhSPPQGGZVHV\n",
        "HWnDDjfPFccDPhfchnMMVWGzzpvGszCCGWWV\n",
        "JNBtBTQJNwJQjTpRVRMvpLsQzsRR\n",
        "JltNSrBjmrHfdPHnDlHg\n",
        "ldCJHlZFspjzHMnp\n",
        "zvcLQBQcQvhBwmcDppqbNpjMLnLDDn\n",
        "BvcmQhWWRzPJJzWWWg\n",
        "ggSTPZBwTPTPSTRwZPBnwPMLdVvBqzsqLzqqtVzqtzBszN\n",
        "QRmhQhffCQhJcDfmpChQWJmJNNtzvqtLdvNsGtLqNGzvWqvG\n",
        "HQFCDhDFCCQJQmZTZwTSSwrZnRFS\n",
        "QbFlsMbgPWPlJWzsJsJZntvnvZtctHBfZvBZlD\n",
        "VTqpTqmSrhVLqrpjNppgntfBgfjddHffZBdtcB\n",
        "VCwpqqqNVgNVgMJJwbsWWGMGFR\n",
        "GCwRjQlsCQrPrGMQPsRvpdvgnjgmVVmSStptgJ\n",
        "DzNcZNHZZhzzHhDzDTLWhDzSdJSSpnnVSTSvJJmgvSdmmn\n",
        "pfLNDppNWHqDWfWbzcHPRslCGbwRCPwQrGQPCF\n",
        "hVLnDgCmbhltrmDlhbhVmcgFBWdSBSZZBFPwBLBPfWdPWZ\n",
        "TNTjJNpjqGMTRRsTTCZddfWwFHFWHSSJSFPS\n",
        "CGQqvQRTNzTpQsDtmcrgDQllhnQl\n",
        "SWrtcHWjcWrPcwWrBwSPffnJNsqfMNCNqNfJFfSq\n",
        "QLQvhBpbbvdvTdvpTdGDbDQqqqslsNMJlMMCqMfQnlfC\n",
        "gThhpmDLbzBmGLptrmRZcwHWHZjVrW\n",
        "gQvzQRvSSbvvJvQgfRrfbSpGqBPGwqwVjPBBwwjpRmjB\n",
        "TcNHHVVtNsDHcMcdMBjqpBnGnwlGTwlPBl\n",
        "MHsMDHFMdDtZddZdFdFrhhgbFFVvffrzzffrrS\n",
        "QSFmrDSSQrqlfmDDHPRTdrrTPRbsTPTsNN\n",
        "wBcclhhgwgMhWLLtVMgVvzRTNNjvbszzTdjNdsRbjp\n",
        "nJgVMtBhwLBctmQHQlnCGqmQZZ\n",
        "sggtjzzggfGmPbCMvRCMvTmT\n",
        "RDqqhdQdDlcDpqVlLbSbZFSTTPllbCMv\n",
        "hqpQWRhhdncDQcBsrwzjnfgtgGfgHs\n",
        "MTrzlgMNQNggrrrPlzQDPCsFRfscTfFVhVftRsFFsScS\n",
        "nWWHZHhZWJjjwjLjwbLbwHGSFppVfFVcGcFLfFSVttpf\n",
        "jWhZZBhqBbwvZvBjZNNQrQQQzPMlzzglPB\n",
        "jLVhJZQjwFCLRjQhPRZFLDzrGDHpDGsGqztGHststC\n",
        "SBNlNmWnfvdLmlnvfNSbzrDTTzprdqrDpGqqpHrG\n",
        "bNmSBnBmcfMmcmnlfcnNSnLhZPVVJhwjZRJPwjZMPjMZ\n",
        "VpzBDgGTGVNNpSGzppMdTQwcvFdFMQdcdFwc\n",
        "ZDsqfRftWtllmlWbLLtjFFMwMrjCcwfvMFvwcC\n",
        "PHbDLHZtZJSJPpVgnV\n",
        "bRvTdswLLSTvwswSbDhsDTvFmmGRVmJGZJnRcGGfFVJcqn\n",
        "MWllQMllWHrjWPNplrllQMPZJmnnVmqJcNmVFFnJNFqVGC\n",
        "PgpQrQjjzQWHzpBdvtwhwdSShBZTsT\n",
        "MhTwjMTsTRFStjmSMqqppBrHpDrzHtPqbD\n",
        "dllNcZWgldLvcsvvvvgvWddlHffqBHBBfPzbbqBpPHrpHNbq\n",
        "VddvgWWdCZhnhsCSSCGT\n",
        "LPjqHnDNqqHNllqLpqPCZCGRCssGdGrGFrPrgr\n",
        "WVBztWTQSQMBQrGgRwwwCGgtwg\n",
        "QJMTgvbTTWSzWWvSbVJTzJllJlHHhLpNqpHqjNjNHpjq\n",
        "PCHCbPPPHPlTThBhjGTTNhMNTh\n",
        "FrmfLqdqgfmfttqtWqfrqdhshchDBshDllDBcGDhGDWs\n",
        "mqgdpvFmmdLdqqQCPHZZblvwZQZl\n",
        "bQGqmngwwgSNrBWJWdHZmjfZWB\n",
        "FlpRLCptFLMlLPRLlCCcCCMpjJZJHShWdWvBHHdcZdBWZvSv\n",
        "FRPCDTTtFptVTnQnrGbwbS\n",
        "LsdmnDMTLbzsbNtqcb\n",
        "lJjCnHSvQRRwQQjRRHQbgWbqctNJPbcWrcPPgc\n",
        "RhGSQGwBvvGShnGlHClwjmfpmfdmVmfFDBLDDZpmMf\n",
        "ppDnPmwvNDjTjjcssT\n",
        "qqfRHzdCPHWfhHHtTjjbbLLGZr\n",
        "MhzqWdJCzqJWSJnpnpvvPSPP\n",
        "NGWdQgDDHGJgQLznzzsJFFzvzB\n",
        "twRCpZVjVWqVSqVwwjtZfrrfntfvznBssBncfLrc\n",
        "jRRwCqwCZhlhZRpSZpjSqWwqmDMQdMmHPQQMHGdlHdTldNGd\"\"\""
      ]
    },
    {
      "cell_type": "code",
      "source": [
        "TESTS = \"\"\"vJrwpWtwJgWrhcsFMMfFFhFp\n",
        "jqHRNqRjqzjGDLGLrsFMfFZSrLrFZsSL\n",
        "PmmdzqPrVvPwwTWBwg\n",
        "wMqvLMZHhHMvwLHjbvcjnnSBnvTQFn\n",
        "ttgJtRGJQctTZtZT\n",
        "CrZsJsPPZsGzwwsLwLmpwMDw\"\"\""
      ],
      "metadata": {
        "id": "0cZOPQevvaah"
      },
      "execution_count": 2,
      "outputs": []
    },
    {
      "cell_type": "markdown",
      "source": [
        "## Code"
      ],
      "metadata": {
        "id": "-zQ44AKjvXL6"
      }
    },
    {
      "cell_type": "code",
      "source": [
        "rucksacks = [(l[:len(l) // 2], l[len(l) // 2:]) for l in INPUT.split('\\n')]"
      ],
      "metadata": {
        "id": "_MsVsetYvHuj"
      },
      "execution_count": 4,
      "outputs": []
    },
    {
      "cell_type": "code",
      "source": [
        "test = [(l[:len(l) // 2], l[len(l) // 2:]) for l in TESTS.split('\\n')]\n",
        "assert test[0][0] == 'vJrwpWtwJgWr'\n",
        "assert test[0][1] == 'hcsFMMfFFhFp'\n",
        "assert test[1][0] == 'jqHRNqRjqzjGDLGL'\n",
        "assert test[1][1] == 'rsFMfFZSrLrFZsSL'\n",
        "assert test[2][0] == 'PmmdzqPrV'\n",
        "assert test[2][1] == 'vPwwTWBwg'"
      ],
      "metadata": {
        "id": "lkwF0_KUwE2o"
      },
      "execution_count": 10,
      "outputs": []
    },
    {
      "cell_type": "code",
      "source": [
        "# Find common item in compartments\n",
        "\n",
        "def get_common_item(c1: str, c2: str) -> str:\n",
        "  return list(set(c1) & set(c2))[0]"
      ],
      "metadata": {
        "id": "xXDD49BMwJGk"
      },
      "execution_count": 28,
      "outputs": []
    },
    {
      "cell_type": "code",
      "source": [
        "assert get_common_item(test[0][0], test[0][1]) == 'p'\n",
        "assert get_common_item(test[1][0], test[1][1]) == 'L'\n",
        "assert get_common_item(test[2][0], test[2][1]) == 'P'\n",
        "assert get_common_item(test[3][0], test[3][1]) == 'v'\n",
        "assert get_common_item(test[4][0], test[4][1]) == 't'\n",
        "assert get_common_item(test[5][0], test[5][1]) == 's'"
      ],
      "metadata": {
        "id": "bAJjbWj8xTE6"
      },
      "execution_count": 19,
      "outputs": []
    },
    {
      "cell_type": "code",
      "source": [
        "# Compute priority of item\n",
        "\n",
        "def compute_priority(item: str) -> int:\n",
        "  return ord(item) - ord('a') + 1 if item >= 'a' else ord(item) - 65 + 27"
      ],
      "metadata": {
        "id": "lw2TyRWvyBj9"
      },
      "execution_count": 29,
      "outputs": []
    },
    {
      "cell_type": "code",
      "source": [
        "# 16 (p), 38 (L), 42 (P), 22 (v), 20 (t), and 19 (s)\n",
        "assert [16, 38, 42, 22, 20, 19] == list(map(compute_priority, ['p', 'L', 'P', 'v', 't', 's']))\n",
        "assert 157 == sum([compute_priority(get_common_item(t[0], t[1])) for t in test])"
      ],
      "metadata": {
        "id": "EMU0Sle5y034"
      },
      "execution_count": 30,
      "outputs": []
    },
    {
      "cell_type": "markdown",
      "source": [
        "### Puzzle input"
      ],
      "metadata": {
        "id": "VLoB-qld0mUb"
      }
    },
    {
      "cell_type": "code",
      "source": [
        "sum([compute_priority(get_common_item(t[0], t[1])) for t in rucksacks])"
      ],
      "metadata": {
        "colab": {
          "base_uri": "https://localhost:8080/"
        },
        "id": "B-wuaC52zoCL",
        "outputId": "dd7754c4-7b41-4a15-a1fc-dccd007362bd"
      },
      "execution_count": 31,
      "outputs": [
        {
          "output_type": "execute_result",
          "data": {
            "text/plain": [
              "8109"
            ]
          },
          "metadata": {},
          "execution_count": 31
        }
      ]
    },
    {
      "cell_type": "markdown",
      "source": [
        "## Part 2"
      ],
      "metadata": {
        "id": "3UXYZ3R40ioe"
      }
    },
    {
      "cell_type": "code",
      "source": [
        "grouped_test = [(''.join(test[i]), ''.join(test[i + 1]), ''.join(test[i + 2])) for i in range(0, len(test), 3)]\n",
        "assert len(grouped_test) * 3 == len(test)\n",
        "grouped_test"
      ],
      "metadata": {
        "colab": {
          "base_uri": "https://localhost:8080/"
        },
        "id": "jCBuzPcV0UwM",
        "outputId": "e8d04333-8c09-4563-a839-89e1823f0899"
      },
      "execution_count": 52,
      "outputs": [
        {
          "output_type": "execute_result",
          "data": {
            "text/plain": [
              "[('vJrwpWtwJgWrhcsFMMfFFhFp',\n",
              "  'jqHRNqRjqzjGDLGLrsFMfFZSrLrFZsSL',\n",
              "  'PmmdzqPrVvPwwTWBwg'),\n",
              " ('wMqvLMZHhHMvwLHjbvcjnnSBnvTQFn',\n",
              "  'ttgJtRGJQctTZtZT',\n",
              "  'CrZsJsPPZsGzwwsLwLmpwMDw')]"
            ]
          },
          "metadata": {},
          "execution_count": 52
        }
      ]
    },
    {
      "cell_type": "code",
      "source": [
        "# Find common item in a list of rucksacks\n",
        "\n",
        "def get_common_item_rucksacks(rucksacks) -> str:\n",
        "  return list(set.intersection(*map(set, rucksacks)))[0]"
      ],
      "metadata": {
        "id": "3ZJ-7a9x1srx"
      },
      "execution_count": 53,
      "outputs": []
    },
    {
      "cell_type": "code",
      "source": [
        "#In the first group, the only item type that appears in all three rucksacks is lowercase r; this must be their badges.\n",
        "# In the second group, their badge item type must be Z.\n",
        "\n",
        "assert ['r', 'Z'] == [get_common_item_rucksacks(r) for r in grouped_test]\n",
        "assert 70 == sum([compute_priority(get_common_item_rucksacks(r)) for r in grouped_test])"
      ],
      "metadata": {
        "id": "u59WWi5E37vb"
      },
      "execution_count": 54,
      "outputs": []
    },
    {
      "cell_type": "code",
      "source": [
        "grouped_rucksacks = [(''.join(rucksacks[i]), ''.join(rucksacks[i + 1]), ''.join(rucksacks[i + 2])) for i in range(0, len(rucksacks), 3)]\n",
        "assert len(grouped_rucksacks) * 3 == len(rucksacks)"
      ],
      "metadata": {
        "id": "f68SF5vM4Tok"
      },
      "execution_count": 55,
      "outputs": []
    },
    {
      "cell_type": "markdown",
      "source": [
        "### Puzzle input"
      ],
      "metadata": {
        "id": "RUyTDcgh6D8B"
      }
    },
    {
      "cell_type": "code",
      "source": [
        "sum([compute_priority(get_common_item_rucksacks(r)) for r in grouped_rucksacks])"
      ],
      "metadata": {
        "colab": {
          "base_uri": "https://localhost:8080/"
        },
        "id": "fNSS_44h4VnK",
        "outputId": "298268ca-c553-4394-8854-1dcb7e8e1ee1"
      },
      "execution_count": 56,
      "outputs": [
        {
          "output_type": "execute_result",
          "data": {
            "text/plain": [
              "2738"
            ]
          },
          "metadata": {},
          "execution_count": 56
        }
      ]
    }
  ]
}