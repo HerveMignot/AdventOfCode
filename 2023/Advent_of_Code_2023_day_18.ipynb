{
  "nbformat": 4,
  "nbformat_minor": 0,
  "metadata": {
    "colab": {
      "provenance": [],
      "authorship_tag": "ABX9TyO0iyXu7jxadYBf1tYZxd4c",
      "include_colab_link": true
    },
    "kernelspec": {
      "name": "python3",
      "display_name": "Python 3"
    },
    "language_info": {
      "name": "python"
    }
  },
  "cells": [
    {
      "cell_type": "markdown",
      "metadata": {
        "id": "view-in-github",
        "colab_type": "text"
      },
      "source": [
        "<a href=\"https://colab.research.google.com/github/HerveMignot/AdventOfCode/blob/main/2023/Advent_of_Code_2023_day_18.ipynb\" target=\"_parent\"><img src=\"https://colab.research.google.com/assets/colab-badge.svg\" alt=\"Open In Colab\"/></a>"
      ]
    },
    {
      "cell_type": "markdown",
      "source": [
        "# 🎄  Advent of Code 2023 - day 18 🎄\n",
        "\n",
        "https://adventofcode.com/2023/day/18"
      ],
      "metadata": {
        "id": "FqtGFSUdrqQk"
      }
    },
    {
      "cell_type": "code",
      "execution_count": 1,
      "metadata": {
        "id": "8zZRKzhykk9Y"
      },
      "outputs": [],
      "source": [
        "TEST = \"\"\"R 6 (#70c710)\n",
        "D 5 (#0dc571)\n",
        "L 2 (#5713f0)\n",
        "D 2 (#d2c081)\n",
        "R 2 (#59c680)\n",
        "D 2 (#411b91)\n",
        "L 5 (#8ceee2)\n",
        "U 2 (#caa173)\n",
        "L 1 (#1b58a2)\n",
        "U 2 (#caa171)\n",
        "R 2 (#7807d2)\n",
        "U 3 (#a77fa3)\n",
        "L 2 (#015232)\n",
        "U 2 (#7a21e3)\"\"\""
      ]
    },
    {
      "cell_type": "code",
      "source": [
        "def load_instructions(puzzle: str) -> list:\n",
        "  return list(map(lambda r: (r[0], int(r[1]), r[2].strip('()')), [row.split() for row in puzzle.splitlines()]))"
      ],
      "metadata": {
        "id": "6Olw1iMpkmkO"
      },
      "execution_count": 2,
      "outputs": []
    },
    {
      "cell_type": "code",
      "source": [
        "load_instructions(TEST)"
      ],
      "metadata": {
        "colab": {
          "base_uri": "https://localhost:8080/"
        },
        "id": "_4J72HFVk3bH",
        "outputId": "4fc5182c-db9b-4bba-b6be-53524644f252"
      },
      "execution_count": 3,
      "outputs": [
        {
          "output_type": "execute_result",
          "data": {
            "text/plain": [
              "[('R', 6, '#70c710'),\n",
              " ('D', 5, '#0dc571'),\n",
              " ('L', 2, '#5713f0'),\n",
              " ('D', 2, '#d2c081'),\n",
              " ('R', 2, '#59c680'),\n",
              " ('D', 2, '#411b91'),\n",
              " ('L', 5, '#8ceee2'),\n",
              " ('U', 2, '#caa173'),\n",
              " ('L', 1, '#1b58a2'),\n",
              " ('U', 2, '#caa171'),\n",
              " ('R', 2, '#7807d2'),\n",
              " ('U', 3, '#a77fa3'),\n",
              " ('L', 2, '#015232'),\n",
              " ('U', 2, '#7a21e3')]"
            ]
          },
          "metadata": {},
          "execution_count": 3
        }
      ]
    },
    {
      "cell_type": "markdown",
      "source": [
        "## Part 1"
      ],
      "metadata": {
        "id": "_qbhuq54rvdW"
      }
    },
    {
      "cell_type": "code",
      "source": [
        "def get_size(instructions: list) -> tuple:\n",
        "  \"\"\" Get the size of the matrix and the starting point coordinates\n",
        "  \"\"\"\n",
        "  min_width, max_width = 0, 0\n",
        "  min_height, max_height = 0, 0\n",
        "\n",
        "  pos = [0, 0]\n",
        "  for instruction in instructions:\n",
        "    if instruction[0] in ('R', 'L'):\n",
        "      pos[0] += (instruction[1] if instruction[0] == 'R' else -instruction[1])\n",
        "      max_width = max(max_width, pos[0])\n",
        "      min_width = min(min_width, pos[0])\n",
        "    elif instruction[0] in ('U', 'D'):\n",
        "      pos[1] += (instruction[1] if instruction[0] == 'D' else -instruction[1])\n",
        "      max_height = max(max_height, pos[1])\n",
        "      min_height = min(min_height, pos[1])\n",
        "  return (max_width - min_width + 1, max_height - min_height + 1, -min_width, -min_height)"
      ],
      "metadata": {
        "id": "Mzb9BJXrk6-1"
      },
      "execution_count": 4,
      "outputs": []
    },
    {
      "cell_type": "code",
      "source": [
        "get_size(load_instructions(TEST))"
      ],
      "metadata": {
        "colab": {
          "base_uri": "https://localhost:8080/"
        },
        "id": "IPGYjwvCoiTo",
        "outputId": "8e670d6c-ef00-4649-ee04-8155b9caf4d6"
      },
      "execution_count": 5,
      "outputs": [
        {
          "output_type": "execute_result",
          "data": {
            "text/plain": [
              "(7, 10, 0, 0)"
            ]
          },
          "metadata": {},
          "execution_count": 5
        }
      ]
    },
    {
      "cell_type": "code",
      "source": [
        "VECTOR = {'R': (1, 0), 'L': (-1, 0), 'D': (0, 1), 'U': (0, -1)}\n",
        "\n",
        "instructions = load_instructions(TEST)\n",
        "\n",
        "def dig_pool(instructions: list) -> list:\n",
        "  width, height, start_col, start_row = get_size(instructions)\n",
        "  pool = [[0 for i in range(width)] for j in range(height)]\n",
        "\n",
        "  pos = [start_col, start_row]\n",
        "  for instruction in instructions:\n",
        "    for _ in range(instruction[1]):\n",
        "      pool[pos[1]][pos[0]] = 1\n",
        "      pos[0] += VECTOR[instruction[0]][0]\n",
        "      pos[1] += VECTOR[instruction[0]][1]\n",
        "\n",
        "  return pool"
      ],
      "metadata": {
        "id": "pKvjgUzAvjWS"
      },
      "execution_count": 6,
      "outputs": []
    },
    {
      "cell_type": "code",
      "source": [
        "sum([sum(row) for row in dig_pool(load_instructions(TEST))])"
      ],
      "metadata": {
        "colab": {
          "base_uri": "https://localhost:8080/"
        },
        "id": "lnfF3_Ji0vvu",
        "outputId": "16040241-497c-4f21-f1cb-8e965a6614e6"
      },
      "execution_count": 7,
      "outputs": [
        {
          "output_type": "execute_result",
          "data": {
            "text/plain": [
              "38"
            ]
          },
          "metadata": {},
          "execution_count": 7
        }
      ]
    },
    {
      "cell_type": "code",
      "source": [
        "import collections\n",
        "\n",
        "def fill_pool(pool: list, start_col: int=0, start_row: int=0) -> list:\n",
        "  \"\"\"Fill the lava pool. Need a starting point inside de pool.\"\"\"\n",
        "  height = len(pool)\n",
        "  width = len(pool[0])\n",
        "\n",
        "  status = [[pool[j][i] for i in range(width)] for j in range(height)]\n",
        "  scanned = collections.deque([(start_col, start_row)])\n",
        "  while scanned:\n",
        "    current_col, current_row = scanned.popleft()\n",
        "    if pool[current_row][current_col] == 0:\n",
        "      status[current_row][current_col] = 1\n",
        "    for delta in ((-1, 0), (1, 0), (0, -1), (0, 1)):\n",
        "      if 0 <= current_col + delta[0] < width and 0 <= current_row + delta[1] < height:\n",
        "        if pool[current_row + delta[1]][current_col + delta[0]] == 0 and status[current_row + delta[1]][current_col + delta[0]] == 0:\n",
        "          status[current_row + delta[1]][current_col + delta[0]] = 1\n",
        "          scanned.append((current_col + delta[0], current_row + delta[1]))\n",
        "  return status"
      ],
      "metadata": {
        "id": "G4EG6NlbbX6i"
      },
      "execution_count": 68,
      "outputs": []
    },
    {
      "cell_type": "markdown",
      "source": [
        "### Part 1 on test"
      ],
      "metadata": {
        "id": "pLSHdQXlsToJ"
      }
    },
    {
      "cell_type": "code",
      "source": [
        "dig_pool(load_instructions(TEST))"
      ],
      "metadata": {
        "colab": {
          "base_uri": "https://localhost:8080/"
        },
        "id": "DmKmxL-4NDDO",
        "outputId": "7c4ad6c4-ff0c-47c3-e0b9-fd4a3f2639a5"
      },
      "execution_count": 39,
      "outputs": [
        {
          "output_type": "execute_result",
          "data": {
            "text/plain": [
              "[[1, 1, 1, 1, 1, 1, 1],\n",
              " [1, 0, 0, 0, 0, 0, 1],\n",
              " [1, 1, 1, 0, 0, 0, 1],\n",
              " [0, 0, 1, 0, 0, 0, 1],\n",
              " [0, 0, 1, 0, 0, 0, 1],\n",
              " [1, 1, 1, 0, 1, 1, 1],\n",
              " [1, 0, 0, 0, 1, 0, 0],\n",
              " [1, 1, 0, 0, 1, 1, 1],\n",
              " [0, 1, 0, 0, 0, 0, 1],\n",
              " [0, 1, 1, 1, 1, 1, 1]]"
            ]
          },
          "metadata": {},
          "execution_count": 39
        }
      ]
    },
    {
      "cell_type": "code",
      "source": [
        "fill_pool(dig_pool(load_instructions(TEST)), 1, 1)"
      ],
      "metadata": {
        "colab": {
          "base_uri": "https://localhost:8080/"
        },
        "id": "SDeW5nAVg8VL",
        "outputId": "2d32c60a-45a2-4dd5-80ca-922ae2aee795"
      },
      "execution_count": 40,
      "outputs": [
        {
          "output_type": "execute_result",
          "data": {
            "text/plain": [
              "[[1, 1, 1, 1, 1, 1, 1],\n",
              " [1, 1, 1, 1, 1, 1, 1],\n",
              " [1, 1, 1, 1, 1, 1, 1],\n",
              " [0, 0, 1, 1, 1, 1, 1],\n",
              " [0, 0, 1, 1, 1, 1, 1],\n",
              " [1, 1, 1, 1, 1, 1, 1],\n",
              " [1, 1, 1, 1, 1, 0, 0],\n",
              " [1, 1, 1, 1, 1, 1, 1],\n",
              " [0, 1, 1, 1, 1, 1, 1],\n",
              " [0, 1, 1, 1, 1, 1, 1]]"
            ]
          },
          "metadata": {},
          "execution_count": 40
        }
      ]
    },
    {
      "cell_type": "markdown",
      "source": [
        "### Part 1 Test Result"
      ],
      "metadata": {
        "id": "yrN0oOtdsZ1g"
      }
    },
    {
      "cell_type": "code",
      "source": [
        "sum([sum(row) for row in fill_pool(dig_pool(load_instructions(TEST)), 1, 1)])"
      ],
      "metadata": {
        "colab": {
          "base_uri": "https://localhost:8080/"
        },
        "id": "PX4zzzvO-RLh",
        "outputId": "7b3af364-b42e-447c-9469-f1ba6e3a5a2c"
      },
      "execution_count": 50,
      "outputs": [
        {
          "output_type": "execute_result",
          "data": {
            "text/plain": [
              "62"
            ]
          },
          "metadata": {},
          "execution_count": 50
        }
      ]
    },
    {
      "cell_type": "markdown",
      "source": [
        "### Visually find starting point..."
      ],
      "metadata": {
        "id": "vMd6LMlHsfVC"
      }
    },
    {
      "cell_type": "code",
      "source": [
        "for i in range(5):\n",
        "  print(''.join(map(str, dig_pool(load_instructions(P))[i]))[:180])"
      ],
      "metadata": {
        "colab": {
          "base_uri": "https://localhost:8080/"
        },
        "id": "15aeR6DbEgJJ",
        "outputId": "63dcfe11-1c05-4ba0-912a-b9c71c4f35af"
      },
      "execution_count": 49,
      "outputs": [
        {
          "output_type": "stream",
          "name": "stdout",
          "text": [
            "000000000000000000000000000000000000000000000000000000000000000000000000000000000000000000000000000000000000000000000000000000000000000000000000000000000000000000000011111110000000\n",
            "000000000000000000000000000000000000000000000000000000000000000000000000000000000000000000000000000000000000000000000000000000000000000000000000000000000000000000000010000010000000\n",
            "000000000000000000000000000000000000000000000000000000000000000000000000000000000000000000000000000000000000000000000000000000000000000000000000000000000000000000000010000010000000\n",
            "000000000000000000000000000000000000000000000000000000000000000000000000000000000000000000000000000000000000000000000000000000000000000000000000000000000000000000000010000010000000\n",
            "000000000000000000000000000000000000000000000000000000000000000000000000000000000000000000000000000000000000000000000000000000000000000000000000000000000000000000000010000010000000\n"
          ]
        }
      ]
    },
    {
      "cell_type": "markdown",
      "source": [
        "### Part 1 Results"
      ],
      "metadata": {
        "id": "HH_SCCxwsmHk"
      }
    },
    {
      "cell_type": "code",
      "source": [
        "sum([sum(row) for row in fill_pool(dig_pool(load_instructions(P)), 169, 1)])"
      ],
      "metadata": {
        "colab": {
          "base_uri": "https://localhost:8080/"
        },
        "id": "G3VqeQMKI4V5",
        "outputId": "fcbd1800-aec5-4620-d93f-7303e51ed98f"
      },
      "execution_count": 52,
      "outputs": [
        {
          "output_type": "execute_result",
          "data": {
            "text/plain": [
              "52055"
            ]
          },
          "metadata": {},
          "execution_count": 52
        }
      ]
    },
    {
      "cell_type": "markdown",
      "source": [
        "## Part 2"
      ],
      "metadata": {
        "id": "77rkfsH_sowc"
      }
    },
    {
      "cell_type": "code",
      "source": [
        "def load_instructions_p2(puzzle: str) -> list:\n",
        "  decoder = {'0': 'R', '1': 'D', '2': 'L', '3': 'U'}\n",
        "  return list(map(lambda r: (decoder[r[2].strip('()')[-1]], int(r[2].strip('()')[1:-1], 16), r[2].strip('()')), [row.split() for row in puzzle.splitlines()]))"
      ],
      "metadata": {
        "id": "6b6pv8rgoYG9"
      },
      "execution_count": 59,
      "outputs": []
    },
    {
      "cell_type": "code",
      "source": [
        "load_instructions_p2(TEST)"
      ],
      "metadata": {
        "colab": {
          "base_uri": "https://localhost:8080/"
        },
        "id": "P9ohGX5Dp4lI",
        "outputId": "eaf748c1-7984-45e4-c9b8-1350dd64808e"
      },
      "execution_count": 60,
      "outputs": [
        {
          "output_type": "execute_result",
          "data": {
            "text/plain": [
              "[('R', 461937, '#70c710'),\n",
              " ('D', 56407, '#0dc571'),\n",
              " ('R', 356671, '#5713f0'),\n",
              " ('D', 863240, '#d2c081'),\n",
              " ('R', 367720, '#59c680'),\n",
              " ('D', 266681, '#411b91'),\n",
              " ('L', 577262, '#8ceee2'),\n",
              " ('U', 829975, '#caa173'),\n",
              " ('L', 112010, '#1b58a2'),\n",
              " ('D', 829975, '#caa171'),\n",
              " ('L', 491645, '#7807d2'),\n",
              " ('U', 686074, '#a77fa3'),\n",
              " ('L', 5411, '#015232'),\n",
              " ('U', 500254, '#7a21e3')]"
            ]
          },
          "metadata": {},
          "execution_count": 60
        }
      ]
    },
    {
      "cell_type": "code",
      "source": [
        "get_size(load_instructions_p2(TEST))"
      ],
      "metadata": {
        "colab": {
          "base_uri": "https://localhost:8080/"
        },
        "id": "KbAn-_GyrHIq",
        "outputId": "a2412ab2-e54e-40fa-af01-6cd945931235"
      },
      "execution_count": 66,
      "outputs": [
        {
          "output_type": "execute_result",
          "data": {
            "text/plain": [
              "(1186329, 1186329, 0, 0)"
            ]
          },
          "metadata": {},
          "execution_count": 66
        }
      ]
    },
    {
      "cell_type": "code",
      "source": [
        "sum([sum(row) for row in fill_pool(dig_pool(load_instructions_p2(TEST)), 1, 1)])"
      ],
      "metadata": {
        "id": "0arWHnh7qtS9"
      },
      "execution_count": null,
      "outputs": []
    },
    {
      "cell_type": "markdown",
      "source": [
        "Obviously, this will not work..."
      ],
      "metadata": {
        "id": "mdkkN1UaswUq"
      }
    },
    {
      "cell_type": "code",
      "source": [
        "get_size(load_instructions_p2(P))"
      ],
      "metadata": {
        "colab": {
          "base_uri": "https://localhost:8080/"
        },
        "id": "i-RUnBI5qW6a",
        "outputId": "9faea30c-3925-4e83-c22f-f7c3e479aa8f"
      },
      "execution_count": 63,
      "outputs": [
        {
          "output_type": "execute_result",
          "data": {
            "text/plain": [
              "(10394535, 14915458, 903908, 9235662)"
            ]
          },
          "metadata": {},
          "execution_count": 63
        }
      ]
    },
    {
      "cell_type": "markdown",
      "source": [
        "## My Puzzle"
      ],
      "metadata": {
        "id": "3hEi9k5As5sB"
      }
    },
    {
      "cell_type": "code",
      "source": [
        "P = \"\"\"L 5 (#088ba0)\n",
        "U 3 (#250f31)\n",
        "L 9 (#61e7e0)\n",
        "U 3 (#250f33)\n",
        "L 3 (#1e8420)\n",
        "U 5 (#36bd43)\n",
        "R 6 (#32a5b2)\n",
        "U 7 (#383191)\n",
        "R 2 (#144d42)\n",
        "U 2 (#383193)\n",
        "R 6 (#4204b2)\n",
        "U 7 (#1a4b53)\n",
        "R 3 (#21b4f0)\n",
        "U 7 (#1afab3)\n",
        "R 3 (#42ab20)\n",
        "D 8 (#11f323)\n",
        "R 5 (#3c1e00)\n",
        "D 8 (#6e7903)\n",
        "R 7 (#390a00)\n",
        "U 6 (#0457b3)\n",
        "R 5 (#123502)\n",
        "U 8 (#148e03)\n",
        "R 2 (#452742)\n",
        "U 3 (#148e01)\n",
        "R 7 (#1dcbc2)\n",
        "U 4 (#15b8f3)\n",
        "R 7 (#4e9e80)\n",
        "D 8 (#3ed153)\n",
        "R 5 (#2bc4a0)\n",
        "D 8 (#29b6c3)\n",
        "R 2 (#5cdb42)\n",
        "D 5 (#33cac3)\n",
        "R 4 (#1a4f52)\n",
        "U 5 (#135e03)\n",
        "R 3 (#1d0ca0)\n",
        "D 5 (#396ca3)\n",
        "R 5 (#465630)\n",
        "U 3 (#1dd753)\n",
        "R 2 (#6362d2)\n",
        "U 5 (#2fd793)\n",
        "R 3 (#2a5610)\n",
        "U 7 (#0f29f3)\n",
        "R 8 (#66eb00)\n",
        "D 7 (#20d683)\n",
        "R 3 (#15fcf0)\n",
        "U 6 (#43a7d3)\n",
        "R 2 (#441e02)\n",
        "U 4 (#2f31a3)\n",
        "R 10 (#300850)\n",
        "U 2 (#39d293)\n",
        "R 2 (#41d100)\n",
        "U 6 (#320743)\n",
        "L 7 (#71d952)\n",
        "U 4 (#193043)\n",
        "L 3 (#441e00)\n",
        "U 7 (#2a7503)\n",
        "L 2 (#07b292)\n",
        "U 3 (#299211)\n",
        "R 7 (#64aa22)\n",
        "U 5 (#299213)\n",
        "L 10 (#108b42)\n",
        "U 3 (#0772c3)\n",
        "L 2 (#2a5612)\n",
        "U 3 (#0fab63)\n",
        "L 6 (#663a30)\n",
        "U 4 (#40d973)\n",
        "L 3 (#0d5e60)\n",
        "U 3 (#285103)\n",
        "L 9 (#451af0)\n",
        "U 4 (#1d4e43)\n",
        "L 4 (#451af2)\n",
        "U 8 (#39a913)\n",
        "R 5 (#0d5e62)\n",
        "U 4 (#290d13)\n",
        "R 4 (#113652)\n",
        "U 9 (#45ace3)\n",
        "R 3 (#5503e2)\n",
        "U 5 (#0c8c43)\n",
        "R 7 (#68f4e0)\n",
        "D 5 (#119833)\n",
        "R 9 (#0e35b0)\n",
        "U 4 (#56a843)\n",
        "R 6 (#44ca32)\n",
        "U 4 (#0d16f3)\n",
        "L 9 (#42fdb2)\n",
        "U 4 (#575f23)\n",
        "L 5 (#2ff902)\n",
        "U 5 (#0470b3)\n",
        "L 2 (#270252)\n",
        "D 5 (#091833)\n",
        "L 6 (#2ff720)\n",
        "U 5 (#2836c3)\n",
        "R 3 (#659ea2)\n",
        "U 6 (#2c7113)\n",
        "L 5 (#659ea0)\n",
        "U 6 (#2827b3)\n",
        "R 5 (#2ff722)\n",
        "U 7 (#1c1a43)\n",
        "R 3 (#2497b0)\n",
        "D 7 (#299d33)\n",
        "R 2 (#0ec8f0)\n",
        "D 5 (#49a851)\n",
        "R 3 (#37d650)\n",
        "D 7 (#49a853)\n",
        "R 8 (#404e10)\n",
        "U 5 (#06e5c3)\n",
        "R 3 (#409362)\n",
        "U 4 (#391103)\n",
        "L 7 (#2ddba0)\n",
        "U 3 (#0bc9e1)\n",
        "R 8 (#5a03e0)\n",
        "U 8 (#0bc9e3)\n",
        "L 8 (#41cce0)\n",
        "U 5 (#0dc663)\n",
        "R 7 (#1e9d10)\n",
        "U 3 (#438d13)\n",
        "R 3 (#30fd72)\n",
        "U 8 (#4baeb3)\n",
        "R 6 (#0a2600)\n",
        "U 10 (#01d6e3)\n",
        "L 5 (#430fd0)\n",
        "U 4 (#0a6f73)\n",
        "L 4 (#1b14d2)\n",
        "U 7 (#634bb3)\n",
        "R 9 (#322102)\n",
        "D 5 (#2a2623)\n",
        "R 4 (#4f02b2)\n",
        "D 5 (#244c11)\n",
        "R 3 (#30e472)\n",
        "D 6 (#134061)\n",
        "R 6 (#4d5ef0)\n",
        "D 5 (#22ea21)\n",
        "L 7 (#05c6b0)\n",
        "D 6 (#33b3a1)\n",
        "L 2 (#164612)\n",
        "D 4 (#2d0f61)\n",
        "R 6 (#3cdf92)\n",
        "D 8 (#2a2d41)\n",
        "R 6 (#3764e2)\n",
        "U 3 (#32fca3)\n",
        "R 5 (#6b2fd0)\n",
        "U 6 (#3c6513)\n",
        "R 4 (#6b2fd2)\n",
        "U 9 (#151243)\n",
        "R 3 (#218012)\n",
        "U 9 (#3fe151)\n",
        "R 2 (#12b722)\n",
        "U 3 (#0afd41)\n",
        "R 5 (#5b3f12)\n",
        "U 9 (#31f0c1)\n",
        "R 4 (#05e1c2)\n",
        "U 5 (#096b91)\n",
        "R 3 (#381280)\n",
        "U 6 (#1f8291)\n",
        "R 4 (#381282)\n",
        "U 3 (#279b01)\n",
        "R 5 (#030c92)\n",
        "U 7 (#417ff1)\n",
        "R 6 (#5b1152)\n",
        "U 3 (#1add53)\n",
        "R 3 (#0b3ee2)\n",
        "U 6 (#4ce103)\n",
        "R 6 (#0b3ee0)\n",
        "D 5 (#4d66d3)\n",
        "R 3 (#27a722)\n",
        "D 3 (#05ab03)\n",
        "R 4 (#373e50)\n",
        "D 5 (#6c3d33)\n",
        "R 4 (#373e52)\n",
        "D 9 (#080ec3)\n",
        "R 6 (#2c82e2)\n",
        "D 6 (#1731c3)\n",
        "R 7 (#0b4b60)\n",
        "D 8 (#22b143)\n",
        "R 6 (#61da00)\n",
        "D 7 (#407ed1)\n",
        "L 5 (#075b90)\n",
        "D 4 (#407ed3)\n",
        "L 3 (#5f6480)\n",
        "D 9 (#22b141)\n",
        "L 6 (#3012b0)\n",
        "U 5 (#0a8cb3)\n",
        "L 4 (#318600)\n",
        "U 3 (#479bf3)\n",
        "R 4 (#324280)\n",
        "U 7 (#2c86a3)\n",
        "L 7 (#2072a0)\n",
        "D 4 (#624cb3)\n",
        "L 9 (#0f7db0)\n",
        "D 6 (#21abc3)\n",
        "R 9 (#1325d0)\n",
        "D 5 (#1f8a41)\n",
        "L 4 (#2f6ec0)\n",
        "D 5 (#57a2d1)\n",
        "L 4 (#3b9370)\n",
        "U 7 (#25de21)\n",
        "L 4 (#0cbdd0)\n",
        "U 3 (#2cfa43)\n",
        "L 4 (#130402)\n",
        "D 10 (#361463)\n",
        "L 5 (#130400)\n",
        "U 5 (#39fc93)\n",
        "L 3 (#246bb0)\n",
        "D 2 (#4abf91)\n",
        "L 7 (#5b17e0)\n",
        "D 3 (#3c6ab1)\n",
        "L 6 (#068d42)\n",
        "D 5 (#148a91)\n",
        "L 3 (#41dfe0)\n",
        "U 10 (#512d51)\n",
        "L 2 (#262db0)\n",
        "U 2 (#27b471)\n",
        "L 4 (#036982)\n",
        "D 12 (#31a3d1)\n",
        "L 4 (#036980)\n",
        "D 3 (#1aee01)\n",
        "R 10 (#262db2)\n",
        "D 2 (#1409e1)\n",
        "R 3 (#41dfe2)\n",
        "D 3 (#209c71)\n",
        "L 4 (#068d40)\n",
        "D 6 (#446921)\n",
        "R 4 (#10b5a2)\n",
        "D 2 (#0d6221)\n",
        "R 5 (#4a6242)\n",
        "D 3 (#10eb81)\n",
        "L 4 (#1e26e0)\n",
        "D 3 (#23fd11)\n",
        "L 5 (#307170)\n",
        "D 5 (#716191)\n",
        "R 3 (#387cb0)\n",
        "D 8 (#04bda1)\n",
        "R 8 (#10e9d0)\n",
        "U 2 (#515da1)\n",
        "R 2 (#3b4450)\n",
        "U 9 (#4e6751)\n",
        "R 5 (#31af90)\n",
        "D 3 (#2e2951)\n",
        "R 4 (#6073a0)\n",
        "D 8 (#06e601)\n",
        "R 4 (#0302c0)\n",
        "D 4 (#335f81)\n",
        "R 11 (#22a740)\n",
        "D 5 (#3e4ca3)\n",
        "R 11 (#23ed32)\n",
        "D 3 (#5b3c03)\n",
        "R 6 (#23ed30)\n",
        "D 7 (#1d4d83)\n",
        "R 5 (#5ae0c0)\n",
        "D 5 (#3ab641)\n",
        "R 3 (#3c91e2)\n",
        "D 8 (#059f81)\n",
        "R 5 (#0f93c0)\n",
        "D 6 (#34d761)\n",
        "R 2 (#022170)\n",
        "D 6 (#371071)\n",
        "R 6 (#022172)\n",
        "D 3 (#09d461)\n",
        "R 3 (#0f93c2)\n",
        "U 10 (#0cf061)\n",
        "R 2 (#3c91e0)\n",
        "U 4 (#23bc51)\n",
        "R 4 (#32d760)\n",
        "U 8 (#3eea73)\n",
        "R 3 (#099c62)\n",
        "D 6 (#45c4f3)\n",
        "R 4 (#099c60)\n",
        "D 5 (#296c33)\n",
        "R 8 (#00bad0)\n",
        "D 8 (#3f4d53)\n",
        "L 8 (#357a80)\n",
        "D 3 (#0cc741)\n",
        "R 6 (#551fb0)\n",
        "D 9 (#0cc743)\n",
        "R 3 (#59a840)\n",
        "D 5 (#039fc1)\n",
        "R 7 (#1bbd50)\n",
        "D 6 (#24ae01)\n",
        "L 5 (#233910)\n",
        "D 7 (#300613)\n",
        "L 9 (#39f1b0)\n",
        "D 3 (#300611)\n",
        "L 6 (#1cd0e0)\n",
        "D 3 (#3666a1)\n",
        "L 4 (#225770)\n",
        "D 4 (#5eb463)\n",
        "L 3 (#3d91d0)\n",
        "U 8 (#4ab363)\n",
        "L 2 (#59a060)\n",
        "U 2 (#2950b3)\n",
        "L 7 (#0d05d2)\n",
        "U 5 (#178e73)\n",
        "L 6 (#380f22)\n",
        "D 5 (#5120f3)\n",
        "L 3 (#277032)\n",
        "D 4 (#060761)\n",
        "R 8 (#0e3912)\n",
        "D 4 (#4b1991)\n",
        "R 7 (#4d9402)\n",
        "D 5 (#178e71)\n",
        "R 12 (#4e61a2)\n",
        "D 5 (#5bb183)\n",
        "R 6 (#00f842)\n",
        "D 5 (#5fdd03)\n",
        "R 4 (#10c532)\n",
        "D 2 (#05b483)\n",
        "R 4 (#3795e2)\n",
        "D 11 (#2ed143)\n",
        "L 4 (#3b2da0)\n",
        "U 6 (#45ab83)\n",
        "L 7 (#588760)\n",
        "U 9 (#129a53)\n",
        "L 4 (#4066c2)\n",
        "D 7 (#0d9733)\n",
        "L 4 (#2489a2)\n",
        "D 8 (#0d9731)\n",
        "L 7 (#2ec4a2)\n",
        "D 6 (#1f12d3)\n",
        "R 4 (#1fe602)\n",
        "D 7 (#057393)\n",
        "R 2 (#3771c0)\n",
        "D 6 (#056461)\n",
        "R 4 (#05e3a0)\n",
        "D 2 (#5cfe23)\n",
        "R 3 (#4068c0)\n",
        "D 7 (#2b4153)\n",
        "R 4 (#35c120)\n",
        "D 6 (#2d0891)\n",
        "R 7 (#6e6c62)\n",
        "D 8 (#365941)\n",
        "L 9 (#6e6c60)\n",
        "D 6 (#24dda1)\n",
        "L 2 (#2d0b50)\n",
        "D 4 (#056463)\n",
        "R 4 (#277d60)\n",
        "D 3 (#40bc61)\n",
        "R 4 (#2e7130)\n",
        "U 6 (#40bc63)\n",
        "R 11 (#497400)\n",
        "D 6 (#0ed393)\n",
        "R 5 (#66d050)\n",
        "D 7 (#437e73)\n",
        "R 3 (#21fc40)\n",
        "U 8 (#0d7663)\n",
        "R 4 (#4ea030)\n",
        "U 5 (#3ee1b1)\n",
        "L 4 (#239040)\n",
        "U 3 (#3160d1)\n",
        "L 10 (#3f5060)\n",
        "U 7 (#248831)\n",
        "R 7 (#1ba900)\n",
        "U 4 (#109051)\n",
        "R 7 (#2b1820)\n",
        "U 4 (#345291)\n",
        "R 11 (#2fa5c2)\n",
        "D 3 (#184f81)\n",
        "L 6 (#2fa5c0)\n",
        "D 8 (#3ce4d1)\n",
        "L 2 (#2b1822)\n",
        "D 7 (#5472d1)\n",
        "R 8 (#22eaa0)\n",
        "D 5 (#0d2f21)\n",
        "R 8 (#351920)\n",
        "U 9 (#5125d1)\n",
        "R 5 (#08c970)\n",
        "D 7 (#133c21)\n",
        "R 3 (#484fe0)\n",
        "D 7 (#0113c1)\n",
        "R 8 (#6f62b0)\n",
        "D 3 (#16f621)\n",
        "R 3 (#2a66c0)\n",
        "U 5 (#105451)\n",
        "R 6 (#36cc80)\n",
        "D 5 (#6d8671)\n",
        "R 4 (#229ce0)\n",
        "D 2 (#31df41)\n",
        "R 6 (#5f50c0)\n",
        "U 9 (#386501)\n",
        "L 2 (#1f0b12)\n",
        "U 4 (#36ae41)\n",
        "L 10 (#1731f2)\n",
        "U 5 (#517921)\n",
        "L 9 (#40dd62)\n",
        "U 6 (#517923)\n",
        "L 7 (#25dd22)\n",
        "U 7 (#0914d1)\n",
        "R 6 (#462962)\n",
        "U 9 (#378011)\n",
        "R 2 (#1e6780)\n",
        "U 3 (#179711)\n",
        "R 5 (#63ed30)\n",
        "U 2 (#481f81)\n",
        "R 4 (#2cf690)\n",
        "D 7 (#4dfc31)\n",
        "R 4 (#37ee50)\n",
        "D 3 (#3e8381)\n",
        "R 2 (#0bacb2)\n",
        "D 4 (#0f4b31)\n",
        "R 3 (#1304c2)\n",
        "U 4 (#1b2bf1)\n",
        "R 2 (#201462)\n",
        "U 4 (#3e6cc3)\n",
        "R 6 (#48c9b2)\n",
        "U 10 (#3e6cc1)\n",
        "L 6 (#0945f2)\n",
        "U 9 (#2f82d1)\n",
        "R 5 (#25f520)\n",
        "D 2 (#13e573)\n",
        "R 4 (#532820)\n",
        "D 4 (#13e571)\n",
        "R 7 (#0c0b80)\n",
        "D 7 (#385b71)\n",
        "L 7 (#0bacb0)\n",
        "D 6 (#433611)\n",
        "R 2 (#17ac02)\n",
        "D 3 (#066be3)\n",
        "R 6 (#563452)\n",
        "D 4 (#492883)\n",
        "R 7 (#103102)\n",
        "U 4 (#4f9461)\n",
        "R 3 (#3f9812)\n",
        "D 3 (#4889a1)\n",
        "R 9 (#272882)\n",
        "D 4 (#315081)\n",
        "R 2 (#52c142)\n",
        "D 9 (#2d10a1)\n",
        "R 4 (#0346e2)\n",
        "D 2 (#107821)\n",
        "R 9 (#4efeb2)\n",
        "D 2 (#53bca1)\n",
        "R 2 (#3c0e72)\n",
        "D 6 (#49f991)\n",
        "R 5 (#112cf2)\n",
        "D 2 (#243621)\n",
        "R 8 (#6b51e2)\n",
        "D 9 (#341b41)\n",
        "L 3 (#1c3d42)\n",
        "D 6 (#27e271)\n",
        "L 6 (#267432)\n",
        "D 3 (#52b6c1)\n",
        "L 4 (#359980)\n",
        "D 11 (#1ebe91)\n",
        "L 3 (#3e14a2)\n",
        "U 3 (#211261)\n",
        "L 3 (#3452d2)\n",
        "U 11 (#225291)\n",
        "L 5 (#27c720)\n",
        "D 6 (#707e51)\n",
        "L 5 (#3c60d0)\n",
        "D 7 (#707e53)\n",
        "L 5 (#0e3f80)\n",
        "D 7 (#2e3e91)\n",
        "L 5 (#3b6e30)\n",
        "D 4 (#32e213)\n",
        "L 4 (#375b72)\n",
        "D 7 (#1fe7a3)\n",
        "L 3 (#375b70)\n",
        "U 5 (#3d9863)\n",
        "L 5 (#3cfba0)\n",
        "U 8 (#17f261)\n",
        "L 3 (#112cf0)\n",
        "U 5 (#0f5b11)\n",
        "L 3 (#4020d0)\n",
        "D 6 (#2e4231)\n",
        "L 8 (#053e90)\n",
        "D 2 (#4fc851)\n",
        "L 10 (#2ce8f2)\n",
        "D 5 (#1d5fa1)\n",
        "L 6 (#187672)\n",
        "D 6 (#579551)\n",
        "L 7 (#221cd2)\n",
        "U 6 (#2dd571)\n",
        "L 3 (#6886f2)\n",
        "D 6 (#321921)\n",
        "L 2 (#42b222)\n",
        "D 5 (#075a03)\n",
        "L 11 (#422fd2)\n",
        "D 5 (#595193)\n",
        "L 8 (#17a072)\n",
        "U 5 (#3c2423)\n",
        "L 6 (#542ef2)\n",
        "U 5 (#02c373)\n",
        "L 4 (#2a4f02)\n",
        "U 7 (#402271)\n",
        "L 2 (#0cf6b0)\n",
        "U 4 (#13a071)\n",
        "L 3 (#277b10)\n",
        "D 7 (#3c9e81)\n",
        "L 6 (#4f7880)\n",
        "D 8 (#0b1901)\n",
        "L 3 (#340292)\n",
        "D 3 (#076ff1)\n",
        "L 4 (#2118f2)\n",
        "D 3 (#076ff3)\n",
        "L 8 (#2ecec2)\n",
        "U 6 (#0418c1)\n",
        "L 5 (#368892)\n",
        "U 5 (#382671)\n",
        "L 7 (#454ec2)\n",
        "U 10 (#42c991)\n",
        "L 4 (#0e86d0)\n",
        "D 7 (#1d62c1)\n",
        "L 8 (#0e86d2)\n",
        "U 8 (#3751a1)\n",
        "L 8 (#321af2)\n",
        "D 8 (#64b3f3)\n",
        "L 5 (#3f1cf2)\n",
        "D 3 (#3ae963)\n",
        "L 4 (#3dbbc2)\n",
        "D 7 (#008451)\n",
        "R 7 (#0f9032)\n",
        "D 5 (#67c611)\n",
        "R 11 (#0f9030)\n",
        "U 5 (#3752f1)\n",
        "R 7 (#0ac792)\n",
        "D 8 (#3cb351)\n",
        "R 2 (#347a52)\n",
        "D 3 (#382911)\n",
        "R 3 (#5b34d2)\n",
        "D 2 (#49b0b1)\n",
        "R 10 (#0de010)\n",
        "D 3 (#1d3fc3)\n",
        "R 5 (#357230)\n",
        "D 7 (#280c73)\n",
        "R 5 (#6def10)\n",
        "U 5 (#280c71)\n",
        "R 5 (#235bc0)\n",
        "U 7 (#1d3fc1)\n",
        "R 9 (#5d5ca0)\n",
        "D 4 (#15abb1)\n",
        "R 3 (#5cbf60)\n",
        "D 10 (#41dfa1)\n",
        "L 2 (#232ec2)\n",
        "D 2 (#3511d1)\n",
        "L 6 (#232ec0)\n",
        "D 6 (#575671)\n",
        "L 6 (#44f6a2)\n",
        "D 6 (#5aa8f1)\n",
        "R 6 (#310932)\n",
        "D 6 (#10c091)\n",
        "L 5 (#1f8ac2)\n",
        "D 3 (#21fc31)\n",
        "L 5 (#2e3ca2)\n",
        "U 5 (#277bf3)\n",
        "L 9 (#0bfd22)\n",
        "U 5 (#277bf1)\n",
        "R 9 (#390102)\n",
        "U 7 (#33a471)\n",
        "L 5 (#041602)\n",
        "U 4 (#235f11)\n",
        "L 9 (#20fd92)\n",
        "D 3 (#69cb71)\n",
        "L 4 (#333e82)\n",
        "D 10 (#039d51)\n",
        "L 6 (#00df02)\n",
        "D 7 (#602a01)\n",
        "L 6 (#44dae2)\n",
        "D 4 (#342721)\n",
        "R 6 (#088ea2)\n",
        "D 4 (#2c5b91)\n",
        "L 6 (#2e3352)\n",
        "D 6 (#47d9c1)\n",
        "L 4 (#45d272)\n",
        "U 11 (#2895e3)\n",
        "L 2 (#1bcf12)\n",
        "U 3 (#2dc413)\n",
        "L 6 (#1bcf10)\n",
        "D 4 (#3c31b3)\n",
        "L 8 (#032bb2)\n",
        "U 7 (#486c23)\n",
        "L 2 (#032bb0)\n",
        "U 4 (#3d4b73)\n",
        "L 3 (#5b1c32)\n",
        "U 4 (#4ae353)\n",
        "L 2 (#167e12)\n",
        "U 8 (#13b6d3)\n",
        "L 4 (#719a40)\n",
        "D 7 (#358da3)\n",
        "L 2 (#5e4700)\n",
        "D 5 (#448473)\n",
        "L 4 (#2b0390)\n",
        "U 3 (#437863)\n",
        "L 9 (#3fe5a0)\n",
        "U 2 (#104f93)\n",
        "L 7 (#1ba080)\n",
        "U 3 (#104353)\n",
        "L 7 (#281e40)\n",
        "U 10 (#4f3f93)\n",
        "R 7 (#39ede2)\n",
        "U 6 (#6fa903)\n",
        "L 4 (#39ede0)\n",
        "U 7 (#0fb493)\n",
        "L 6 (#0bb5d2)\n",
        "U 7 (#03a6a1)\n",
        "L 5 (#6268d2)\n",
        "U 2 (#03a6a3)\n",
        "L 10 (#1585c2)\n",
        "U 6 (#1f2823)\n",
        "L 4 (#42ca62)\n",
        "U 5 (#3e7c83)\n",
        "L 6 (#1e1160)\n",
        "D 5 (#068313)\n",
        "L 5 (#414f22)\n",
        "U 4 (#4bb1f3)\n",
        "L 5 (#414f20)\n",
        "U 7 (#2ea7c3)\n",
        "L 2 (#1e1162)\n",
        "U 4 (#06a053)\n",
        "L 4 (#468032)\n",
        "U 5 (#0ab563)\n",
        "L 9 (#1898e0)\n",
        "U 3 (#124ae3)\n",
        "L 4 (#324bc0)\n",
        "D 3 (#53bac3)\n",
        "L 4 (#3f02b2)\n",
        "D 8 (#097a11)\n",
        "R 4 (#68a852)\n",
        "D 4 (#097a13)\n",
        "L 2 (#06d032)\n",
        "D 4 (#2ce463)\n",
        "L 3 (#5e5b10)\n",
        "U 3 (#479663)\n",
        "L 3 (#4f2c20)\n",
        "U 10 (#059913)\n",
        "L 2 (#00f400)\n",
        "U 6 (#095173)\n",
        "L 4 (#324bc2)\n",
        "U 4 (#294473)\n",
        "L 10 (#1898e2)\n",
        "U 2 (#064dd3)\n",
        "L 2 (#0a4e42)\n",
        "U 4 (#41d683)\n",
        "R 4 (#0a9762)\n",
        "U 2 (#075d03)\n",
        "R 8 (#312c42)\n",
        "U 5 (#29ec71)\n",
        "L 5 (#32d172)\n",
        "U 5 (#1f4711)\n",
        "L 8 (#313232)\n",
        "U 4 (#3932b1)\n",
        "R 5 (#1c2b02)\n",
        "U 9 (#473081)\n",
        "L 5 (#049552)\n",
        "U 6 (#09f6b1)\n",
        "L 5 (#025212)\n",
        "U 6 (#15d451)\n",
        "L 4 (#40ae22)\n",
        "U 7 (#6a1941)\n",
        "R 4 (#1b4c22)\n",
        "U 4 (#1411a3)\n",
        "L 7 (#63bc52)\n",
        "U 9 (#1411a1)\n",
        "L 8 (#0cb412)\n",
        "D 9 (#5ba4b1)\n",
        "L 4 (#35df62)\n",
        "U 9 (#311e33)\n",
        "L 4 (#206802)\n",
        "U 4 (#3496b3)\n",
        "L 4 (#678fd2)\n",
        "U 5 (#110833)\n",
        "L 5 (#4772e2)\n",
        "U 5 (#3aa053)\n",
        "L 3 (#5db2e0)\n",
        "U 3 (#2ce593)\n",
        "R 6 (#5db2e2)\n",
        "U 7 (#3c90c3)\n",
        "L 6 (#15c962)\n",
        "U 3 (#148ff3)\n",
        "L 4 (#64ab02)\n",
        "D 10 (#1990b3)\n",
        "L 2 (#1439a2)\n",
        "D 3 (#1cf7d3)\n",
        "L 4 (#1a0832)\n",
        "U 5 (#3e3f43)\"\"\""
      ],
      "metadata": {
        "id": "mVlnH12YoluS"
      },
      "execution_count": 45,
      "outputs": []
    },
    {
      "cell_type": "code",
      "source": [],
      "metadata": {
        "id": "WNrQq9-xnEvB"
      },
      "execution_count": null,
      "outputs": []
    }
  ]
}