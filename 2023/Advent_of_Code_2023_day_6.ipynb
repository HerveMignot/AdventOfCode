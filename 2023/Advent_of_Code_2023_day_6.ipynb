{
  "nbformat": 4,
  "nbformat_minor": 0,
  "metadata": {
    "colab": {
      "provenance": [],
      "authorship_tag": "ABX9TyPuoNOGig15z3QYDmRTon52",
      "include_colab_link": true
    },
    "kernelspec": {
      "name": "python3",
      "display_name": "Python 3"
    },
    "language_info": {
      "name": "python"
    }
  },
  "cells": [
    {
      "cell_type": "markdown",
      "metadata": {
        "id": "view-in-github",
        "colab_type": "text"
      },
      "source": [
        "<a href=\"https://colab.research.google.com/github/HerveMignot/AdventOfCode/blob/main/2023/Advent_of_Code_2023_day_6.ipynb\" target=\"_parent\"><img src=\"https://colab.research.google.com/assets/colab-badge.svg\" alt=\"Open In Colab\"/></a>"
      ]
    },
    {
      "cell_type": "markdown",
      "source": [
        "# 🎄 Advent of Code 2023 - day 6 🎄"
      ],
      "metadata": {
        "id": "z6hXS0PaVSlO"
      }
    },
    {
      "cell_type": "code",
      "source": [
        "TEST = \"\"\"Time:      7  15   30\n",
        "Distance:  9  40  200\"\"\""
      ],
      "metadata": {
        "id": "wNjsiUdyWDpD"
      },
      "execution_count": 7,
      "outputs": []
    },
    {
      "cell_type": "code",
      "source": [
        "def load_races(puzzle: str) -> list:\n",
        "  lines = puzzle.splitlines()\n",
        "  times = map(int, lines[0].split(\":\")[1].strip().split())\n",
        "  distances = map(int, lines[1].split(\":\")[1].strip().split())\n",
        "  return list(zip(times, distances))"
      ],
      "metadata": {
        "id": "yz5wQuumVlog"
      },
      "execution_count": 12,
      "outputs": []
    },
    {
      "cell_type": "code",
      "source": [
        "load_races(TEST)"
      ],
      "metadata": {
        "colab": {
          "base_uri": "https://localhost:8080/"
        },
        "id": "5hHt4RzjV9Un",
        "outputId": "b0691d3d-c93a-4c72-ce75-826e3df8c35c"
      },
      "execution_count": 13,
      "outputs": [
        {
          "output_type": "execute_result",
          "data": {
            "text/plain": [
              "[(7, 9), (15, 40), (30, 200)]"
            ]
          },
          "metadata": {},
          "execution_count": 13
        }
      ]
    },
    {
      "cell_type": "markdown",
      "source": [
        "## Part 1"
      ],
      "metadata": {
        "id": "curd4fnOgASC"
      }
    },
    {
      "cell_type": "code",
      "source": [
        "def compute_wins(race: tuple) -> int:\n",
        "  distances = [(race[0] - i) * i for i in range(1, race[0] + 1)]\n",
        "  return len(list(filter(lambda d: d > race[1], distances)))"
      ],
      "metadata": {
        "id": "UWamqGKWWMMT"
      },
      "execution_count": 22,
      "outputs": []
    },
    {
      "cell_type": "markdown",
      "source": [
        "### Part 1 Test"
      ],
      "metadata": {
        "id": "TBePrJKmgDt3"
      }
    },
    {
      "cell_type": "code",
      "source": [
        "import functools\n",
        "from operator import mul\n",
        "\n",
        "# 288\n",
        "functools.reduce(mul, map(compute_wins, load_races(TEST)))"
      ],
      "metadata": {
        "colab": {
          "base_uri": "https://localhost:8080/"
        },
        "id": "Q1lXOCO0b4ul",
        "outputId": "26c1b100-0d5a-4044-9885-124435084db6"
      },
      "execution_count": 27,
      "outputs": [
        {
          "output_type": "execute_result",
          "data": {
            "text/plain": [
              "288"
            ]
          },
          "metadata": {},
          "execution_count": 27
        }
      ]
    },
    {
      "cell_type": "markdown",
      "source": [
        "### Part 1 Result"
      ],
      "metadata": {
        "id": "fYw22Ha1gG2g"
      }
    },
    {
      "cell_type": "code",
      "execution_count": 2,
      "metadata": {
        "id": "mJPxDKMvU8lI"
      },
      "outputs": [],
      "source": [
        "P = \"\"\"Time:        60     80     86     76\n",
        "Distance:   601   1163   1559   1300\"\"\""
      ]
    },
    {
      "cell_type": "code",
      "source": [
        "functools.reduce(mul, map(compute_wins, load_races(P)))"
      ],
      "metadata": {
        "colab": {
          "base_uri": "https://localhost:8080/"
        },
        "id": "co8GRo3FeeEF",
        "outputId": "e85fc7da-0453-4428-e3f7-c13264835016"
      },
      "execution_count": 28,
      "outputs": [
        {
          "output_type": "execute_result",
          "data": {
            "text/plain": [
              "1155175"
            ]
          },
          "metadata": {},
          "execution_count": 28
        }
      ]
    },
    {
      "cell_type": "markdown",
      "source": [
        "## Part 2"
      ],
      "metadata": {
        "id": "sLeDbS11gUBS"
      }
    },
    {
      "cell_type": "markdown",
      "source": [
        "### Part 2 Result"
      ],
      "metadata": {
        "id": "FZcyrsEpgWoP"
      }
    },
    {
      "cell_type": "code",
      "source": [
        "P2 = \"\"\"Time:        60808676\n",
        "Distance:   601116315591300\"\"\""
      ],
      "metadata": {
        "id": "uXfB8MCBVRS2"
      },
      "execution_count": 29,
      "outputs": []
    },
    {
      "cell_type": "code",
      "source": [
        "load_races(P2)"
      ],
      "metadata": {
        "colab": {
          "base_uri": "https://localhost:8080/"
        },
        "id": "eBde4khUfMtL",
        "outputId": "c3ae0243-fad0-4558-9562-22c93e60875f"
      },
      "execution_count": 30,
      "outputs": [
        {
          "output_type": "execute_result",
          "data": {
            "text/plain": [
              "[(60808676, 601116315591300)]"
            ]
          },
          "metadata": {},
          "execution_count": 30
        }
      ]
    },
    {
      "cell_type": "code",
      "source": [
        "compute_wins(load_races(P2)[0])"
      ],
      "metadata": {
        "colab": {
          "base_uri": "https://localhost:8080/"
        },
        "id": "PVWn26lJfUZE",
        "outputId": "ace2e74c-d3e7-408e-8180-bfa232d42894"
      },
      "execution_count": 32,
      "outputs": [
        {
          "output_type": "execute_result",
          "data": {
            "text/plain": [
              "35961505"
            ]
          },
          "metadata": {},
          "execution_count": 32
        }
      ]
    }
  ]
}